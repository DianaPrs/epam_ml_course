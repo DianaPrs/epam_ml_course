{
 "cells": [
  {
   "cell_type": "code",
   "execution_count": 20,
   "metadata": {
    "id": "jTJ-Hs5J5ksG"
   },
   "outputs": [],
   "source": [
    "import pandas as pd"
   ]
  },
  {
   "cell_type": "code",
   "execution_count": 21,
   "metadata": {
    "id": "DKqZlpR16Knz"
   },
   "outputs": [],
   "source": [
    "data = pd.read_csv('data.csv', sep = \";\")"
   ]
  },
  {
   "cell_type": "code",
   "execution_count": 22,
   "metadata": {
    "colab": {
     "base_uri": "https://localhost:8080/",
     "height": 419
    },
    "id": "oI4yF-E36230",
    "outputId": "d55574b7-0134-4b24-ce81-7d954327591a"
   },
   "outputs": [
    {
     "data": {
      "text/html": [
       "<div>\n",
       "<style scoped>\n",
       "    .dataframe tbody tr th:only-of-type {\n",
       "        vertical-align: middle;\n",
       "    }\n",
       "\n",
       "    .dataframe tbody tr th {\n",
       "        vertical-align: top;\n",
       "    }\n",
       "\n",
       "    .dataframe thead th {\n",
       "        text-align: right;\n",
       "    }\n",
       "</style>\n",
       "<table border=\"1\" class=\"dataframe\">\n",
       "  <thead>\n",
       "    <tr style=\"text-align: right;\">\n",
       "      <th></th>\n",
       "      <th>title</th>\n",
       "      <th>actor</th>\n",
       "    </tr>\n",
       "  </thead>\n",
       "  <tbody>\n",
       "    <tr>\n",
       "      <th>0</th>\n",
       "      <td>Гранд тур</td>\n",
       "      <td>Джереми Кларксон</td>\n",
       "    </tr>\n",
       "    <tr>\n",
       "      <th>1</th>\n",
       "      <td>Гранд тур</td>\n",
       "      <td>Ричард Хаммонд</td>\n",
       "    </tr>\n",
       "    <tr>\n",
       "      <th>2</th>\n",
       "      <td>Гранд тур</td>\n",
       "      <td>Джеймс Мэй</td>\n",
       "    </tr>\n",
       "    <tr>\n",
       "      <th>3</th>\n",
       "      <td>Гранд тур</td>\n",
       "      <td>Abbie Eaton</td>\n",
       "    </tr>\n",
       "    <tr>\n",
       "      <th>4</th>\n",
       "      <td>Гранд тур</td>\n",
       "      <td>Майк Скиннер</td>\n",
       "    </tr>\n",
       "    <tr>\n",
       "      <th>...</th>\n",
       "      <td>...</td>\n",
       "      <td>...</td>\n",
       "    </tr>\n",
       "    <tr>\n",
       "      <th>135</th>\n",
       "      <td>BBC: Сила искусства</td>\n",
       "      <td>Пол Попплуэлл</td>\n",
       "    </tr>\n",
       "    <tr>\n",
       "      <th>136</th>\n",
       "      <td>BBC: Сила искусства</td>\n",
       "      <td>Тим Фрэнсис</td>\n",
       "    </tr>\n",
       "    <tr>\n",
       "      <th>137</th>\n",
       "      <td>BBC: Сила искусства</td>\n",
       "      <td>Эндрю Гарфилд</td>\n",
       "    </tr>\n",
       "    <tr>\n",
       "      <th>138</th>\n",
       "      <td>BBC: Сила искусства</td>\n",
       "      <td>Саймон Куотерман</td>\n",
       "    </tr>\n",
       "    <tr>\n",
       "      <th>139</th>\n",
       "      <td>BBC: Сила искусства</td>\n",
       "      <td>Джо Ван Мойланд</td>\n",
       "    </tr>\n",
       "  </tbody>\n",
       "</table>\n",
       "<p>140 rows × 2 columns</p>\n",
       "</div>"
      ],
      "text/plain": [
       "                   title             actor\n",
       "0              Гранд тур  Джереми Кларксон\n",
       "1              Гранд тур    Ричард Хаммонд\n",
       "2              Гранд тур        Джеймс Мэй\n",
       "3              Гранд тур       Abbie Eaton\n",
       "4              Гранд тур      Майк Скиннер\n",
       "..                   ...               ...\n",
       "135  BBC: Сила искусства     Пол Попплуэлл\n",
       "136  BBC: Сила искусства       Тим Фрэнсис\n",
       "137  BBC: Сила искусства     Эндрю Гарфилд\n",
       "138  BBC: Сила искусства  Саймон Куотерман\n",
       "139  BBC: Сила искусства   Джо Ван Мойланд\n",
       "\n",
       "[140 rows x 2 columns]"
      ]
     },
     "execution_count": 22,
     "metadata": {},
     "output_type": "execute_result"
    }
   ],
   "source": [
    "data"
   ]
  },
  {
   "cell_type": "code",
   "execution_count": 23,
   "metadata": {
    "id": "So3WQZJ-oQEx"
   },
   "outputs": [],
   "source": [
    "movies = set(data[\"title\"])"
   ]
  },
  {
   "cell_type": "code",
   "execution_count": 24,
   "metadata": {
    "id": "NA42RBncO_d7"
   },
   "outputs": [],
   "source": [
    "from itertools import combinations\n",
    "\n",
    "cast_dict = {}\n",
    "for movie in movies:\n",
    "    actors = set(data.loc[data['title'] == movie][\"actor\"])\n",
    "    d[movie] = actors "
   ]
  },
  {
   "cell_type": "code",
   "execution_count": 25,
   "metadata": {
    "id": "p4S6KWRqYlp1"
   },
   "outputs": [],
   "source": [
    "values = list(cast_dict.values())\n",
    "keys = list(cast_dict.keys())\n",
    "cross_list = [] # the list of actors, who appered in more then one movie from data set\n",
    "\n",
    "l2 = [(i, set(values[i])) for i in range(len(values))]\n",
    "for (i, a), (j, b) in combinations(l2, 2):\n",
    "    s = a.intersection(b)\n",
    "    \n",
    "    if len(s) > 0:\n",
    "        for v in s:\n",
    "            cross_list.append((v, [keys[i], keys[j]]))     \n",
    "     "
   ]
  },
  {
   "cell_type": "code",
   "execution_count": 26,
   "metadata": {
    "colab": {
     "base_uri": "https://localhost:8080/"
    },
    "id": "gf5iFvNLL2fR",
    "outputId": "a5b48c41-eb57-4b79-e044-d5973f9a2041"
   },
   "outputs": [
    {
     "data": {
      "text/plain": [
       "[('Джеймс Мэй', ['Гранд тур', 'Топ Гир']),\n",
       " ('Джереми Кларксон', ['Гранд тур', 'Топ Гир']),\n",
       " ('Ричард Хаммонд', ['Гранд тур', 'Топ Гир']),\n",
       " ('Радик Мухаметзянов',\n",
       "  ['Братья по оружию', 'Острые козырьки / Заточенные кепки']),\n",
       " ('Антон Савенков', ['Черное зеркало', 'Топ Гир'])]"
      ]
     },
     "execution_count": 26,
     "metadata": {},
     "output_type": "execute_result"
    }
   ],
   "source": [
    "cross_list"
   ]
  },
  {
   "cell_type": "code",
   "execution_count": 27,
   "metadata": {
    "id": "tfiwnWCrZ3HB"
   },
   "outputs": [],
   "source": [
    "cross_dict = {}\n",
    "for entry in cross_list:\n",
    "    cross_dict.setdefault(entry[0], []).extend(entry[1])     "
   ]
  },
  {
   "cell_type": "code",
   "execution_count": 35,
   "metadata": {
    "id": "hXPXKpeN652s"
   },
   "outputs": [],
   "source": [
    "cross_dict = {k:set(v) for k, v in cross_dict.items()} # removes doubling"
   ]
  },
  {
   "cell_type": "code",
   "execution_count": 36,
   "metadata": {
    "id": "ZdZLAsXfmALw"
   },
   "outputs": [
    {
     "data": {
      "text/plain": [
       "{'Джеймс Мэй': {'Гранд тур', 'Топ Гир'},\n",
       " 'Джереми Кларксон': {'Гранд тур', 'Топ Гир'},\n",
       " 'Ричард Хаммонд': {'Гранд тур', 'Топ Гир'},\n",
       " 'Радик Мухаметзянов': {'Братья по оружию',\n",
       "  'Острые козырьки / Заточенные кепки'},\n",
       " 'Антон Савенков': {'Топ Гир', 'Черное зеркало'}}"
      ]
     },
     "execution_count": 36,
     "metadata": {},
     "output_type": "execute_result"
    }
   ],
   "source": [
    "cross_dict"
   ]
  },
  {
   "cell_type": "markdown",
   "metadata": {
    "id": "NAp04ZOUbAZh"
   },
   "source": [
    "# Новый раздел"
   ]
  },
  {
   "cell_type": "code",
   "execution_count": 57,
   "metadata": {
    "id": "yR6I-m9jxnUw"
   },
   "outputs": [],
   "source": [
    "values = list(cross_dict.values())\n",
    "keys = list(cross_dict.keys())\n",
    "connections_list = [] #the list of actors connections\n",
    "labels = {}\n",
    "\n",
    "l2 = [(i, set(values[i])) for i in range(len(values))]\n",
    "for (i, c), (j, d) in combinations(l2, 2):\n",
    "    s = c.intersection(d)\n",
    "\n",
    "    if j != i and len(s) > 0:\n",
    "        res = (keys[j], keys[i], len(s))\n",
    "        connections_list.append(res)\n",
    "    \n",
    "    if j != i and len(s) == 1:\n",
    "        res = keys[j], keys[i]\n",
    "        labels[res] = list(s)[0]"
   ]
  },
  {
   "cell_type": "code",
   "execution_count": 58,
   "metadata": {
    "colab": {
     "base_uri": "https://localhost:8080/"
    },
    "id": "3dfKeNBhyv2U",
    "outputId": "be701295-ff10-4db7-8449-f2ebd314a0ad"
   },
   "outputs": [
    {
     "data": {
      "text/plain": [
       "[('Джереми Кларксон', 'Джеймс Мэй', 2),\n",
       " ('Ричард Хаммонд', 'Джеймс Мэй', 2),\n",
       " ('Антон Савенков', 'Джеймс Мэй', 1),\n",
       " ('Ричард Хаммонд', 'Джереми Кларксон', 2),\n",
       " ('Антон Савенков', 'Джереми Кларксон', 1),\n",
       " ('Антон Савенков', 'Ричард Хаммонд', 1)]"
      ]
     },
     "execution_count": 58,
     "metadata": {},
     "output_type": "execute_result"
    }
   ],
   "source": [
    "connections_list"
   ]
  },
  {
   "cell_type": "code",
   "execution_count": 60,
   "metadata": {
    "id": "KnFd8Fx1b2Gn"
   },
   "outputs": [],
   "source": [
    "import networkx as nx"
   ]
  },
  {
   "cell_type": "code",
   "execution_count": 61,
   "metadata": {
    "colab": {
     "base_uri": "https://localhost:8080/",
     "height": 846
    },
    "id": "yQiLfaJony5c",
    "outputId": "3994c6c8-0dde-49e5-bcad-c7215bcf9561"
   },
   "outputs": [
    {
     "data": {
      "image/png": "[encoded data removed]",
      "text/plain": [
       "<Figure size 1080x1080 with 1 Axes>"
      ]
     },
     "metadata": {},
     "output_type": "display_data"
    }
   ],
   "source": [
    "import matplotlib.pyplot as plt\n",
    "import networkx as nx\n",
    "plt.rcParams[\"figure.figsize\"] = (15,15)\n",
    "\n",
    "G = nx.Graph()\n",
    "G.add_weighted_edges_from(connections_list)\n",
    "\n",
    "pos = nx.spring_layout(G, seed=30)\n",
    "weights = [item[-1] for item in connections_list]\n",
    "\n",
    "plt.figure(1)\n",
    "nx.draw_networkx_nodes(G, pos, node_size=2000)\n",
    "nx.draw_networkx_edges(G, pos, width=weights)\n",
    "nx.draw_networkx_edge_labels(G,pos,edge_labels=labels)\n",
    "nx.draw_networkx_labels(G, pos, font_size=15, font_family=\"sans-serif\")\n",
    "\n",
    "ax = plt.gca()\n",
    "ax.margins(0.5)\n",
    "plt.axis(\"off\")\n",
    "plt.show()"
   ]
  },
  {
   "cell_type": "code",
   "execution_count": 41,
   "metadata": {
    "colab": {
     "base_uri": "https://localhost:8080/"
    },
    "id": "yJsgkO64mj0F",
    "outputId": "22df9e20-2692-4f92-b688-c851a4676bff"
   },
   "outputs": [
    {
     "data": {
      "text/plain": [
       "DegreeView({'Джереми Кларксон': 3, 'Джеймс Мэй': 3, 'Ричард Хаммонд': 3, 'Антон Савенков': 3})"
      ]
     },
     "execution_count": 41,
     "metadata": {},
     "output_type": "execute_result"
    }
   ],
   "source": [
    "G.degree()"
   ]
  },
  {
   "cell_type": "code",
   "execution_count": 42,
   "metadata": {
    "colab": {
     "base_uri": "https://localhost:8080/"
    },
    "id": "jrgbGrf3mp-x",
    "outputId": "47ca2c0d-1eff-4b90-8f2d-9bfa26d8b626"
   },
   "outputs": [
    {
     "data": {
      "text/plain": [
       "{'Джереми Кларксон': 0.0,\n",
       " 'Джеймс Мэй': 0.0,\n",
       " 'Ричард Хаммонд': 0.0,\n",
       " 'Антон Савенков': 0.0}"
      ]
     },
     "execution_count": 42,
     "metadata": {},
     "output_type": "execute_result"
    }
   ],
   "source": [
    "nx.betweenness_centrality(G)"
   ]
  },
  {
   "cell_type": "code",
   "execution_count": 43,
   "metadata": {
    "colab": {
     "base_uri": "https://localhost:8080/"
    },
    "id": "mQgrZ6RPnX4A",
    "outputId": "5634ef46-867a-4bec-85f4-dfa5915ceff2"
   },
   "outputs": [
    {
     "data": {
      "text/plain": [
       "{'Джереми Кларксон': 1.0,\n",
       " 'Джеймс Мэй': 1.0,\n",
       " 'Ричард Хаммонд': 1.0,\n",
       " 'Антон Савенков': 1.0}"
      ]
     },
     "execution_count": 43,
     "metadata": {},
     "output_type": "execute_result"
    }
   ],
   "source": [
    "nx.closeness_centrality(G)"
   ]
  },
  {
   "cell_type": "code",
   "execution_count": null,
   "metadata": {},
   "outputs": [],
   "source": []
  }
 ],
 "metadata": {
  "colab": {
   "collapsed_sections": [],
   "name": "Untitled0.ipynb",
   "provenance": []
  },
  "kernelspec": {
   "display_name": "Python 3",
   "language": "python",
   "name": "python3"
  },
  "language_info": {
   "codemirror_mode": {
    "name": "ipython",
    "version": 3
   },
   "file_extension": ".py",
   "mimetype": "text/x-python",
   "name": "python",
   "nbconvert_exporter": "python",
   "pygments_lexer": "ipython3",
   "version": "3.8.5"
  }
 },
 "nbformat": 4,
 "nbformat_minor": 1
}
